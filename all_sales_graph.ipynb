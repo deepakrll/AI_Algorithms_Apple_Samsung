# Mount Google Drive
from google.colab import drive
drive.mount('/content/drive')

import pandas as pd
import numpy as np
import matplotlib.pyplot as plt
import seaborn as sns

# Load dataset
file_path = '/content/drive/My Drive/Colab Notebooks/iphone_samsung_sales_with_models.csv'
df = pd.read_csv(file_path)

# Display first few rows of the dataset
print("First few rows of the dataset:")
print(df.head())

# Group Data by Year, State, Brand, and Model to get total Sales Units and Revenue
grouped_data = df.groupby(['Year', 'State', 'Brand', 'Model'])[['Sales Units', 'Revenue (INR)']].sum().reset_index()

# ----- Visualization Section -----

# ----- 1. Year to Model Sales -----
plt.figure(figsize=(12, 8))
sns.lineplot(data=grouped_data, x='Year', y='Sales Units', hue='Model', marker='o')
plt.title('Year-wise Sales Units for Each Model')
plt.xlabel('Year')
plt.ylabel('Sales Units')
plt.legend(title='Model', bbox_to_anchor=(1.05, 1), loc='upper left')  # Add legend outside the plot
plt.tight_layout()
plt.show()

# ----- 2. State to Model Sales -----
plt.figure(figsize=(14, 8))
sns.barplot(data=grouped_data, x='State', y='Sales Units', hue='Model')
plt.title('State-wise Sales Units for Each Model')
plt.xlabel('State')
plt.ylabel('Sales Units')
plt.legend(title='Model', bbox_to_anchor=(1.05, 1), loc='upper left')  # Add legend outside the plot
plt.xticks(rotation=90)  # Rotate state names for better readability
plt.tight_layout()
plt.show()

# ----- 3. State to Total Sales -----
plt.figure(figsize=(12, 8))
state_sales = grouped_data.groupby('State')['Sales Units'].sum().reset_index()
sns.barplot(data=state_sales, x='State', y='Sales Units')
plt.title('Total Sales Units by State')
plt.xlabel('State')
plt.ylabel('Sales Units')
plt.xticks(rotation=90)  # Rotate state names for better readability
plt.tight_layout()
plt.show()

# ----- 4. Model to Revenue -----
plt.figure(figsize=(14, 8))
sns.barplot(data=grouped_data, x='Model', y='Revenue (INR)', hue='Brand')
plt.title('Model-wise Revenue for iPhone and Samsung')
plt.xlabel('Model')
plt.ylabel('Revenue (INR)')
plt.legend(title='Brand', bbox_to_anchor=(1.05, 1), loc='upper left')  # Add legend outside the plot
plt.xticks(rotation=90)  # Rotate model names for better readability
plt.tight_layout()
plt.show()

# ----- 5. Year to State Total Sales -----
plt.figure(figsize=(14, 8))
year_state_sales = grouped_data.groupby(['Year', 'State'])['Sales Units'].sum().reset_index()
sns.lineplot(data=year_state_sales, x='Year', y='Sales Units', hue='State', marker='o')
plt.title('Year-wise Sales Units in Each State')
plt.xlabel('Year')
plt.ylabel('Sales Units')
plt.legend(title='State', bbox_to_anchor=(1.05, 1), loc='upper left')  # Add legend outside the plot
plt.tight_layout()
plt.show()

# ----- 6. Year to Brand Sales -----
plt.figure(figsize=(12, 8))
sns.lineplot(data=grouped_data, x='Year', y='Sales Units', hue='Brand', marker='o')
plt.title('Year-wise Sales Units for iPhone and Samsung')
plt.xlabel('Year')
plt.ylabel('Sales Units')
plt.legend(title='Brand', bbox_to_anchor=(1.05, 1), loc='upper left')  # Add legend outside the plot
plt.tight_layout()
plt.show()
