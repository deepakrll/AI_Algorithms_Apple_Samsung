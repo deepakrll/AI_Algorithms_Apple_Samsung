# Mount Google Drive
from google.colab import drive
drive.mount('/content/drive')

import pandas as pd
import numpy as np
import os

# Define the directory path where you want to save the file
directory = '/content/drive/My Drive/Colab Notebooks/'

# Create the directory if it doesn't exist
if not os.path.exists(directory):
    os.makedirs(directory)

# Define the years, states, brands, and models
years = [2019, 2020, 2021, 2022, 2023, 2024]
states = ['Andhra Pradesh', 'Arunachal Pradesh', 'Assam', 'Bihar', 'Chhattisgarh',
          'Goa', 'Gujarat', 'Haryana', 'Himachal Pradesh', 'Jammu & Kashmir',
          'Jharkhand', 'Karnataka', 'Kerala', 'Madhya Pradesh', 'Maharashtra',
          'Manipur', 'Meghalaya', 'Mizoram', 'Nagaland', 'Odisha',
          'Punjab', 'Rajasthan', 'Sikkim', 'Tamil Nadu', 'Telangana',
          'Tripura', 'Uttar Pradesh', 'Uttarakhand', 'West Bengal']
brands = ['iPhone', 'Samsung']

# Define specific phone models for iPhone and Samsung
iphone_models = ['iPhone 11', 'iPhone 12', 'iPhone 13', 'iPhone 14', 'iPhone SE']
samsung_models = ['Samsung Galaxy S20', 'Samsung Galaxy S21', 'Samsung Galaxy S22',
                  'Samsung Galaxy S23', 'Samsung Galaxy A52', 'Samsung Galaxy A72']

# Total number of entries
total_entries = len(years) * len(states) * len(brands)  # 6 * 29 * 2 = 348

# Generate phone models based on brand
# Create an array of brands repeated for all years and states
brand_array = np.tile(brands, len(years) * len(states))  # Length: 348

# Generate models based on brand
iphone_model_choices = np.random.choice(iphone_models, total_entries)
samsung_model_choices = np.random.choice(samsung_models, total_entries)

# Use np.where to assign models based on the brand
model_array = np.where(brand_array == 'iPhone', iphone_model_choices, samsung_model_choices)

# Generate random sales data
np.random.seed(42)  # for reproducibility
sales_units = np.random.randint(1000, 50000, total_entries)
revenue_inr = np.random.randint(10000000, 500000000, total_entries)

# Generate years and states
year_array = np.repeat(years, len(states) * len(brands))  # 6 * 29 * 2 = 348
state_array = np.tile(np.repeat(states, len(brands)), len(years))  # 6 * 29 * 2 = 348

# Create the DataFrame
data = {
    'Year': year_array,
    'State': state_array,
    'Brand': brand_array,
    'Model': model_array,
    'Sales Units': sales_units,
    'Revenue (INR)': revenue_inr
}

df_sales = pd.DataFrame(data)

# Save to a CSV file in Google Drive
csv_file_path = os.path.join(directory, 'iphone_samsung_sales_with_models.csv')
df_sales.to_csv(csv_file_path, index=False)

# Print the first few rows of the dataset
print("First few rows of the dataset:\n", df_sales.head())

print(f"\nDataset successfully saved to: {csv_file_path}")
