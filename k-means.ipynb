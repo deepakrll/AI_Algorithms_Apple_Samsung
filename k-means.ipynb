#4. K- Means
# Import necessary libraries
from sklearn.cluster import KMeans
import seaborn as sns
import matplotlib.pyplot as plt
import pandas as pd

# Load the dataset from Google Drive
file_path = '/content/drive/My Drive/Colab Notebooks/iphone_samsung_sales_with_models.csv'
df = pd.read_csv(file_path)

# Display the first few rows
print("First few rows of the dataset:\n", df.head())

# Encode categorical variables
from sklearn.preprocessing import LabelEncoder

le = LabelEncoder()
df['Brand'] = le.fit_transform(df['Brand'])  # iPhone=0, Samsung=1
df['Model'] = le.fit_transform(df['Model'])  # Assign numeric labels to models

# Define features for clustering
X = df[['Brand', 'Model', 'Sales Units', 'Revenue (INR)']]

# Initialize and train the K-Means model
kmeans = KMeans(n_clusters=3, random_state=42)
kmeans.fit(X)

# Assign cluster labels to the dataset
df['Cluster'] = kmeans.labels_

# Display the first few rows with cluster labels
print("\nDataset with Cluster Labels:\n", df.head())

# Visualize the clusters
plt.figure(figsize=(12, 8))
sns.scatterplot(x='Sales Units', y='Revenue (INR)', hue='Cluster', data=df, palette='viridis')
plt.title('K-Means Clustering of Phone Sales')
plt.xlabel('Sales Units')
plt.ylabel('Revenue (INR)')
plt.legend(title='Cluster')
plt.show()

# Interpretation
print("\n--- Interpretation ---")
print("K-Means Clustering has grouped the data into 3 distinct clusters based on sales units and revenue.")
print("Each cluster represents a group of states with similar sales patterns for iPhones and Samsung phones.")
print("This can help in identifying regions with high sales, moderate sales, and low sales.")
print("Targeted marketing strategies can be developed for each cluster.")
