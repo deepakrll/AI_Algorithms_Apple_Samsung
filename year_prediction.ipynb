#1. Prediction and Forecast for the upcoming 2 years 2025 and 2026
# Mount Google Drive
from google.colab import drive
drive.mount('/content/drive')

import pandas as pd
import numpy as np
import matplotlib.pyplot as plt
import seaborn as sns

from sklearn.model_selection import train_test_split
from sklearn.linear_model import LinearRegression
from sklearn.ensemble import RandomForestRegressor
from sklearn.svm import SVR
from sklearn.tree import DecisionTreeRegressor
from sklearn.metrics import mean_squared_error, r2_score
from sklearn.preprocessing import LabelEncoder

# Load dataset
file_path = '/content/drive/My Drive/Colab Notebooks/iphone_samsung_sales_with_models.csv'
df = pd.read_csv(file_path)

# Display first few rows of the dataset
print("First few rows of the dataset:")
print(df.head())

# Encode categorical variables (State, Brand, Model) into numerical format
le = LabelEncoder()
df['State'] = le.fit_transform(df['State'])
df['Brand'] = le.fit_transform(df['Brand'])
df['Model'] = le.fit_transform(df['Model'])

# Convert 'Year' to categorical
df['Year'] = df['Year'].astype(int)

# Group Data by Year, State, Brand, and Model to get total Sales Units and Revenue
grouped_data = df.groupby(['Year', 'State', 'Brand', 'Model'])[['Sales Units', 'Revenue (INR)']].sum().reset_index()

# ----- Visualization Section -----
plt.figure(figsize=(12, 8))

# Year-wise sales and revenue
sns.lineplot(data=grouped_data, x='Year', y='Sales Units', hue='Brand')
plt.title('Year-wise Sales Units for iPhone and Samsung')
plt.xlabel('Year')
plt.ylabel('Sales Units')
plt.show()

# State-wise sales
plt.figure(figsize=(14, 8))
sns.barplot(data=grouped_data, x='State', y='Sales Units', hue='Brand')
plt.title('State-wise Sales Units for iPhone and Samsung')
plt.xlabel('State')
plt.ylabel('Sales Units')
plt.show()

# Model-wise revenue
plt.figure(figsize=(14, 8))
sns.barplot(data=grouped_data, x='Model', y='Revenue (INR)', hue='Brand')
plt.title('Model-wise Revenue for iPhone and Samsung')
plt.xlabel('Model')
plt.ylabel('Revenue (INR)')
plt.xticks(rotation=90)
plt.show()

# ----- Prediction Section -----
# Prepare features (X) and target (y)
X = grouped_data.drop(['Sales Units', 'Revenue (INR)'], axis=1)
y_sales = grouped_data['Sales Units']
y_revenue = grouped_data['Revenue (INR)']

# Train-test split
X_train_sales, X_test_sales, y_train_sales, y_test_sales = train_test_split(X, y_sales, test_size=0.2, random_state=42)
X_train_revenue, X_test_revenue, y_train_revenue, y_test_revenue = train_test_split(X, y_revenue, test_size=0.2, random_state=42)

# ----- Linear Regression for Sales -----
lin_reg = LinearRegression()
lin_reg.fit(X_train_sales, y_train_sales)
sales_pred_lr = lin_reg.predict(X_test_sales)

# Linear Regression Evaluation for Sales
print("Linear Regression for Sales - Mean Squared Error:", mean_squared_error(y_test_sales, sales_pred_lr))
print("Linear Regression for Sales - R² Score:", r2_score(y_test_sales, sales_pred_lr))

# ----- Random Forest for Revenue -----
rf_reg = RandomForestRegressor(n_estimators=100, random_state=42)
rf_reg.fit(X_train_revenue, y_train_revenue)
revenue_pred_rf = rf_reg.predict(X_test_revenue)

# Random Forest Evaluation for Revenue
print("Random Forest for Revenue - Mean Squared Error:", mean_squared_error(y_test_revenue, revenue_pred_rf))
print("Random Forest for Revenue - R² Score:", r2_score(y_test_revenue, revenue_pred_rf))

# ----- Support Vector Machine (SVM) for Sales -----
svm_reg = SVR(kernel='linear')
svm_reg.fit(X_train_sales, y_train_sales)
sales_pred_svm = svm_reg.predict(X_test_sales)

# SVM Evaluation for Sales
print("SVM for Sales - Mean Squared Error:", mean_squared_error(y_test_sales, sales_pred_svm))
print("SVM for Sales - R² Score:", r2_score(y_test_sales, sales_pred_svm))

# ----- Decision Tree for Revenue -----
dt_reg = DecisionTreeRegressor(random_state=42)
dt_reg.fit(X_train_revenue, y_train_revenue)
revenue_pred_dt = dt_reg.predict(X_test_revenue)

# Decision Tree Evaluation for Revenue
print("Decision Tree for Revenue - Mean Squared Error:", mean_squared_error(y_test_revenue, revenue_pred_dt))
print("Decision Tree for Revenue - R² Score:", r2_score(y_test_revenue, revenue_pred_dt))

# ----- Forecasting Future Sales (2 years ahead) -----
# Add rows for 2025 and 2026 for prediction purposes
future_years = pd.DataFrame({'Year': [2025, 2026], 'State': [0] * 2, 'Brand': [0] * 2, 'Model': [0] * 2})

# Predict sales for the next two years using Linear Regression
future_sales_pred = lin_reg.predict(future_years)

# Predict revenue for the next two years using Random Forest
future_revenue_pred = rf_reg.predict(future_years)

# Display predictions
print("\nPredicted Sales Units for 2025 and 2026 (Linear Regression):", future_sales_pred)
print("Predicted Revenue for 2025 and 2026 (Random Forest):", future_revenue_pred)
